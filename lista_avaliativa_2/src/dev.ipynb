{
 "cells": [
  {
   "cell_type": "markdown",
   "metadata": {},
   "source": [
    "### 1 - Desenvolva um programa que apresente um menu ao usuário onde terão as seguintes opções:\n",
    "---"
   ]
  },
  {
   "cell_type": "markdown",
   "metadata": {},
   "source": [
    "=== MENU ===\n",
    "\n",
    "- (1) Listar todos os produtos\n",
    "- (2) Listar produto pelo ID\n",
    "- (3) Listar todos os produtos ordenados (A/Z)\n",
    "- (4) Cadastrar novo produto\n",
    "- (5) Editar produto\n",
    "- (6) Excluir produto\n",
    "- (7) Sair do programa"
   ]
  },
  {
   "cell_type": "code",
   "execution_count": 1,
   "metadata": {},
   "outputs": [],
   "source": [
    "menu = '''=== MENU ===\n",
    "(1) Listar todos os produtos\n",
    "(2) Listar produto pelo ID\n",
    "(3) Listar todos os produtos ordenados (A/Z)\n",
    "(4) Cadastrar novo produto\n",
    "(5) Editar produto\n",
    "(6) Excluir produto\n",
    "(7) Sair do programa\n",
    "============'''"
   ]
  },
  {
   "cell_type": "code",
   "execution_count": null,
   "metadata": {},
   "outputs": [],
   "source": [
    "op3 = '''=== MENU: Listar todos os produtos ordenados (A/Z) ===\n",
    "METODOS\n",
    "(a) - Bubble sort\n",
    "(b) - Insertion sort\n",
    "(c) - Selection sort\n",
    "Escolha o método (a,b,c): ___\n",
    "ORDEM\n",
    "(d) - crescente\n",
    "(e) - decrescente\n",
    "Escolha a ordem (d,e): ___\n",
    "COLUNA\n",
    "(f) - id\n",
    "(g) - descricao\n",
    "(h) - peso\n",
    "(i) - valor\n",
    "(j) - fornecedor\n",
    "Escolha a ordem (f,g,h,i,j): ___'''"
   ]
  },
  {
   "cell_type": "code",
   "execution_count": 5,
   "metadata": {},
   "outputs": [],
   "source": [
    "def metodos():\n",
    "    while True:\n",
    "        condicao = input('''\\nMETODOS\\n(a) - Bubble sort\\n(b) - Insertion sort\\n(c) - Selection sort\\n\\nEscolha o metodo -> [a,b,c]: ''')\n",
    "        condicao = condicao.upper()\n",
    "        if (condicao == 'A') | (condicao == 'B') | (condicao == 'C'):\n",
    "            break"
   ]
  },
  {
   "cell_type": "code",
   "execution_count": 7,
   "metadata": {},
   "outputs": [],
   "source": [
    "def ordem():\n",
    "    while True:\n",
    "        condicao = input('''ORDEM\\n(d) - Crescente\\n(e) - Decrescente\\n\\nEscolha a ordem -> [d,e]: ''')\n",
    "        condicao = condicao.upper()\n",
    "        if condicao.upper() == 'D' or condicao.upper() == 'E':\n",
    "            break"
   ]
  },
  {
   "cell_type": "code",
   "execution_count": null,
   "metadata": {},
   "outputs": [],
   "source": [
    "def coluna():\n",
    "    while True:\n",
    "        condicao = input('''COLUNA\\n(f) - id\\n(g) - descricao\\n(h) - peso\\n(i) - valor\\n(j) - fornecedor\\n\\nEscolha a ordem -> [f,g,h,i,j]''')\n",
    "        condicao = condicao.upper()\n",
    "        if condicao == 'F' or condicao == 'G' or condicao == 'H' or condicao == 'I' or condicao == 'J':\n",
    "            break"
   ]
  },
  {
   "cell_type": "markdown",
   "metadata": {},
   "source": [
    "###\n",
    "---"
   ]
  },
  {
   "cell_type": "code",
   "execution_count": null,
   "metadata": {},
   "outputs": [],
   "source": [
    "print('=== MENU: Listar todos os produtos ordenados (A/Z) ===')"
   ]
  }
 ],
 "metadata": {
  "kernelspec": {
   "display_name": ".venv",
   "language": "python",
   "name": "python3"
  },
  "language_info": {
   "codemirror_mode": {
    "name": "ipython",
    "version": 3
   },
   "file_extension": ".py",
   "mimetype": "text/x-python",
   "name": "python",
   "nbconvert_exporter": "python",
   "pygments_lexer": "ipython3",
   "version": "3.11.6"
  }
 },
 "nbformat": 4,
 "nbformat_minor": 2
}
