{
 "cells": [
  {
   "cell_type": "markdown",
   "metadata": {},
   "source": [
    "### 1 - Desenvolva um programa que apresente um menu ao usuário onde terão as seguintes opções:\n",
    "---"
   ]
  },
  {
   "cell_type": "markdown",
   "metadata": {},
   "source": [
    "=== MENU ===\n",
    "\n",
    "- (1) Listar todos os produtos\n",
    "- (2) Listar produto pelo ID\n",
    "- (3) Listar todos os produtos ordenados (A/Z)\n",
    "- (4) Cadastrar novo produto\n",
    "- (5) Editar produto\n",
    "- (6) Excluir produto\n",
    "- (7) Sair do programa"
   ]
  },
  {
   "cell_type": "code",
   "execution_count": 1,
   "metadata": {},
   "outputs": [],
   "source": [
    "menu = '''=== MENU ===\n",
    "(1) Listar todos os produtos\n",
    "(2) Listar produto pelo ID\n",
    "(3) Listar todos os produtos ordenados (A/Z)\n",
    "(4) Cadastrar novo produto\n",
    "(5) Editar produto\n",
    "(6) Excluir produto\n",
    "(7) Sair do programa\n",
    "============'''"
   ]
  },
  {
   "cell_type": "code",
   "execution_count": null,
   "metadata": {},
   "outputs": [],
   "source": [
    "op3 = '''=== MENU: Listar todos os produtos ordenados (A/Z) ===\n",
    "METODOS\n",
    "(a) - Bubble sort\n",
    "(b) - Insertion sort\n",
    "(c) - Selection sort\n",
    "Escolha o método (a,b,c): ___\n",
    "ORDEM\n",
    "(d) - crescente\n",
    "(e) - decrescente\n",
    "Escolha a ordem (d,e): ___\n",
    "COLUNA\n",
    "(f) - id\n",
    "(g) - descricao\n",
    "(h) - peso\n",
    "(i) - valor\n",
    "(j) - fornecedor\n",
    "Escolha a ordem (f,g,h,i,j): ___'''"
   ]
  },
  {
   "cell_type": "code",
   "execution_count": 5,
   "metadata": {},
   "outputs": [],
   "source": [
    "def metodos():\n",
    "    while True:\n",
    "        condicao = input('''\\nMETODOS\\n(a) - Bubble sort\\n(b) - Insertion sort\\n(c) - Selection sort\\n\\nEscolha o metodo -> [a,b,c]: ''')\n",
    "        condicao = condicao.upper()\n",
    "        if (condicao == 'A') | (condicao == 'B') | (condicao == 'C'):\n",
    "            break"
   ]
  },
  {
   "cell_type": "code",
   "execution_count": 7,
   "metadata": {},
   "outputs": [],
   "source": [
    "def ordem():\n",
    "    while True:\n",
    "        condicao = input('''ORDEM\\n(d) - Crescente\\n(e) - Decrescente\\n\\nEscolha a ordem -> [d,e]: ''')\n",
    "        condicao = condicao.upper()\n",
    "        if condicao.upper() == 'D' or condicao.upper() == 'E':\n",
    "            break"
   ]
  },
  {
   "cell_type": "code",
   "execution_count": null,
   "metadata": {},
   "outputs": [],
   "source": [
    "def coluna():\n",
    "    while True:\n",
    "        condicao = input('''COLUNA\\n(f) - id\\n(g) - descricao\\n(h) - peso\\n(i) - valor\\n(j) - fornecedor\\n\\nEscolha a ordem -> [f,g,h,i,j]''')\n",
    "        condicao = condicao.upper()\n",
    "        if condicao == 'F' or condicao == 'G' or condicao == 'H' or condicao == 'I' or condicao == 'J':\n",
    "            break"
   ]
  },
  {
   "cell_type": "markdown",
   "metadata": {},
   "source": [
    "###\n",
    "---"
   ]
  },
  {
   "cell_type": "code",
   "execution_count": null,
   "metadata": {},
   "outputs": [],
   "source": [
    "print('=== MENU: Listar todos os produtos ordenados (A/Z) ===')"
   ]
  },
  {
   "cell_type": "code",
   "execution_count": 1,
   "metadata": {},
   "outputs": [
    {
     "name": "stdout",
     "output_type": "stream",
     "text": [
      "[17, 20, 26, 31, 44, 54, 55, 77, 93]\n"
     ]
    }
   ],
   "source": [
    "def bubbleSort(alist):\n",
    "    for passnum in range(len(alist)-1,0,-1):\n",
    "        for i in range(passnum):\n",
    "            if alist[i]>alist[i+1]:\n",
    "                temp = alist[i]\n",
    "                alist[i] = alist[i+1]\n",
    "                alist[i+1] = temp\n",
    "\n",
    "alist = [54,26,93,17,77,31,44,55,20]\n",
    "bubbleSort(alist)\n",
    "print(alist)"
   ]
  },
  {
   "cell_type": "code",
   "execution_count": 2,
   "metadata": {},
   "outputs": [
    {
     "name": "stdout",
     "output_type": "stream",
     "text": [
      "Sorted Array in Ascending Order:\n",
      "[1, 3, 4, 5, 9]\n"
     ]
    }
   ],
   "source": [
    "def insertionSort(array):\n",
    "\n",
    "    for step in range(1, len(array)):\n",
    "        key = array[step]\n",
    "        j = step - 1\n",
    "        \n",
    "        # Compare key with each element on the left of it until an element smaller than it is found\n",
    "        # For descending order, change key<array[j] to key>array[j].        \n",
    "        while j >= 0 and key < array[j]:\n",
    "            array[j + 1] = array[j]\n",
    "            j = j - 1\n",
    "        \n",
    "        # Place key at after the element just smaller than it.\n",
    "        array[j + 1] = key\n",
    "\n",
    "\n",
    "data = [9, 5, 1, 4, 3]\n",
    "insertionSort(data)\n",
    "print('Sorted Array in Ascending Order:')\n",
    "print(data)"
   ]
  },
  {
   "cell_type": "code",
   "execution_count": 3,
   "metadata": {},
   "outputs": [
    {
     "name": "stdout",
     "output_type": "stream",
     "text": [
      "The array after sorting in Ascending Order by selection sort is:\n",
      "[-202, -97, -9, -2, 0, 11, 45, 88, 747]\n"
     ]
    }
   ],
   "source": [
    "# Selection sort in Python\n",
    "# time complexity O(n*n)\n",
    "#sorting by finding min_index\n",
    "def selectionSort(array, size):\n",
    "    \n",
    "    for ind in range(size):\n",
    "        min_index = ind\n",
    " \n",
    "        for j in range(ind + 1, size):\n",
    "            # select the minimum element in every iteration\n",
    "            if array[j] < array[min_index]:\n",
    "                min_index = j\n",
    "         # swapping the elements to sort the array\n",
    "        (array[ind], array[min_index]) = (array[min_index], array[ind])\n",
    " \n",
    "arr = [-2, 45, 0, 11, -9,88,-97,-202,747]\n",
    "size = len(arr)\n",
    "selectionSort(arr, size)\n",
    "print('The array after sorting in Ascending Order by selection sort is:')\n",
    "print(arr)\n"
   ]
  }
 ],
 "metadata": {
  "kernelspec": {
   "display_name": ".venv",
   "language": "python",
   "name": "python3"
  },
  "language_info": {
   "codemirror_mode": {
    "name": "ipython",
    "version": 3
   },
   "file_extension": ".py",
   "mimetype": "text/x-python",
   "name": "python",
   "nbconvert_exporter": "python",
   "pygments_lexer": "ipython3",
   "version": "3.10.12"
  }
 },
 "nbformat": 4,
 "nbformat_minor": 2
}
