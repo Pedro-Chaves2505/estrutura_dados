{
 "cells": [
  {
   "cell_type": "code",
   "execution_count": 1,
   "metadata": {},
   "outputs": [],
   "source": [
    "from os import system"
   ]
  },
  {
   "attachments": {},
   "cell_type": "markdown",
   "metadata": {},
   "source": [
    "1 - Elabore um rápido estudo sobre as estruturas de dados 'embutidas' do Python (ou análogas \n",
    "caso utilize outra linguagem), listando de forma objetiva as principais características de cada uma \n",
    "e suas principais funções.\n",
    "\n",
    "- list\n",
    "- set\n",
    "- map"
   ]
  },
  {
   "cell_type": "code",
   "execution_count": null,
   "metadata": {},
   "outputs": [],
   "source": []
  },
  {
   "attachments": {},
   "cell_type": "markdown",
   "metadata": {},
   "source": [
    "2 - Elabore um CRUD na estrutura list para manipular nomes de países, o usuário informará os \n",
    "nomes manualmente."
   ]
  },
  {
   "cell_type": "markdown",
   "metadata": {},
   "source": [
    "--- CREATE"
   ]
  },
  {
   "cell_type": "code",
   "execution_count": 7,
   "metadata": {},
   "outputs": [],
   "source": [
    "# Abrindo arquivo TXT, com uma lista ofical de paises.\n",
    "# Fonte: https://www.bcb.gov.br/ftp/paises.txt\n",
    "with open('../data/lista_de_paises_completa.txt') as archive:\n",
    "    lista_de_paises_completa = archive.read()"
   ]
  },
  {
   "cell_type": "code",
   "execution_count": 10,
   "metadata": {},
   "outputs": [],
   "source": [
    "# Slice sobre a lista, para separar os items em '\\n' (Paragrafos)\n",
    "lista_de_paises_completa = lista_de_paises_completa.split('\\n')\n",
    "\n",
    "# Sobre o resultado anterior, outro Slice para quebrar a ',' (virgula)\n",
    "lista_de_paises_completa = list(map(lambda x: x.split(',')[0], lista_de_paises_completa))\n",
    "\n",
    "# Sobre o resultado anterior, outro Slice para quebrar o \" \" (Espacos)\n",
    "# Por fim, pegando o ultimo item de cada lista, resultando no nome de cada pais.\n",
    "lista_de_paises_completa = list(map(lambda x: x.split(' ')[-1], lista_de_paises_completa))"
   ]
  },
  {
   "cell_type": "code",
   "execution_count": 2,
   "metadata": {},
   "outputs": [],
   "source": [
    "contagem_paises = {\n",
    "    1: 'Primeiro',\n",
    "    2: 'Segundo',\n",
    "    3: 'Terceiro',\n",
    "    4: 'Quarto',\n",
    "    5: 'Quinto',\n",
    "    6: 'Sexto',\n",
    "    7: 'Setimo',\n",
    "    8: 'Oitavo',\n",
    "    9: 'Nono',\n",
    "    10: 'Decimo'\n",
    "    }"
   ]
  },
  {
   "cell_type": "code",
   "execution_count": null,
   "metadata": {},
   "outputs": [],
   "source": [
    "lista_paises_saida = []"
   ]
  },
  {
   "cell_type": "code",
   "execution_count": 6,
   "metadata": {},
   "outputs": [
    {
     "name": "stdout",
     "output_type": "stream",
     "text": [
      "Liste 10 paises de escolha ->\n",
      "\n"
     ]
    }
   ],
   "source": [
    "print(' Liste 10 paises de escolha '.center(50,'*'))\n",
    "for x in range(1,11):\n",
    "    lista_paises_saida.append(input(f'\\nDigite o {contagem_paises[x]}:'))\n",
    "    # system('cls')\n",
    "    print(dict(enumerate(lista_paises_saida,1)))"
   ]
  },
  {
   "cell_type": "markdown",
   "metadata": {},
   "source": [
    "--- DELETE"
   ]
  },
  {
   "cell_type": "code",
   "execution_count": null,
   "metadata": {},
   "outputs": [],
   "source": [
    "for x in range(1,11):\n",
    "    while True:\n",
    "        indicador = input(\"\\nDigite o numero indicador, para deletar um pais da lista: \")\n",
    "        indicador.isnumeric()"
   ]
  },
  {
   "attachments": {},
   "cell_type": "markdown",
   "metadata": {},
   "source": [
    "3 - Elabore um simples CRUD em estrutura map para manipular uma coleção de jogadores \n",
    "(número da camisa, nome dos jogadores), limitada a 20 jogadores onde o usuário informará os \n",
    "nomes manualmente."
   ]
  },
  {
   "cell_type": "code",
   "execution_count": null,
   "metadata": {},
   "outputs": [],
   "source": []
  },
  {
   "cell_type": "markdown",
   "metadata": {},
   "source": [
    "4 - Elabore uma simples manipulação de arquivo (TXT) com funções para adicionar, listar, alterar \n",
    "e excluir."
   ]
  },
  {
   "cell_type": "code",
   "execution_count": null,
   "metadata": {},
   "outputs": [],
   "source": []
  },
  {
   "cell_type": "markdown",
   "metadata": {},
   "source": [
    "5 - Realize um rápido estudo sobre ordenação de valores utilizando o método da bolha (Bubble\n",
    "Sort)"
   ]
  },
  {
   "cell_type": "code",
   "execution_count": null,
   "metadata": {},
   "outputs": [],
   "source": []
  },
  {
   "cell_type": "markdown",
   "metadata": {},
   "source": [
    "6 - Desenvolva um programa que apresente um menu ao usuário onde terão as seguintes opções:\n",
    "\n",
    "- Menu\n",
    "\n",
    "- (1) Listar todos os produtos\n",
    "- (2) - Listar produto pelo ID\n",
    "- (3) - Listar todos os produtos ordenados (A/Z)\n",
    "- (3) - Cadastrar novo produto\n",
    "- (4) - Editar produto\n",
    "- (5) - Excluir produto\n",
    "- (6) - Sair do programa\n",
    "\n",
    "Serão informados os seguintes dados para cada produto: id (preferencialmente \n",
    "autoincrementado), descricao, peso, valor, fornecedor\n",
    "\n",
    "No item 3 será utilizado o Bubble Sort para apresentação (A) Crescente ou (Z) Decrescente de \n",
    "acordo com escolha do usuário.\n",
    "\n",
    "Cada produto informado pelo usuário será inserido em uma estrutura de dicionário (produto)\n",
    "\n",
    "Em uma lista (produtos) cada elemento será um dicionário (produto)\n",
    "\n",
    "Sempre que iniciar o programa o usuário deverá informar usuário e senha (ex: \n",
    "nome.sobrenome, alfaNumerica) que por sua vez estará gravada em um arquivo usuario.txt na \n",
    "raiz do programa.\n",
    "\n",
    "Os produtos serão persistidos em um arquivo produtos.txt"
   ]
  },
  {
   "cell_type": "code",
   "execution_count": null,
   "metadata": {},
   "outputs": [],
   "source": [
    "#Autenticação\n",
    "username = input('Digite seu nome de usuario: ')\n",
    "print(f'\\nOlá, {username}!\\n\\n')\n",
    "\n",
    "#Seleção da função\n",
    "produtos = []\n",
    "\n",
    "resp = 8\n",
    "while resp != 6:\n",
    "  print('Digite a operação que deseja realizar:')\n",
    "  print('(1)Listar Produtos')\n",
    "  print('(2)Listar segundo a ordem alfabética')\n",
    "  print('(3)Cadastrar novo produto')\n",
    "  print('(4)Editar Produto')\n",
    "  print('(5)Excluir Produto\\n')\n",
    "  \n",
    "  resp = int(input())\n",
    "\n",
    "  #navegando pelo menu\n",
    "\n",
    "  match resp:\n",
    "    case 1:\n",
    "      prod_len = len(produtos)\n",
    "      for i in range(prod_len):\n",
    "        print(f'{produtos[i]}\\n')\n",
    "    case 3:\n",
    "      produtos.append({})\n",
    "      \n",
    "      last_idx = len(produtos) - 1\n",
    "\n",
    "      print('\\n')\n",
    "      produtos[last_idx]['id'] = last_idx\n",
    "      produtos[last_idx]['nome'] = input('Digite o nome do produto: ')\n",
    "      produtos[last_idx]['descricao'] = input('Digite a descrição do produto: ')\n",
    "      produtos[last_idx]['peso'] = input('Digite a peso do produto: ')\n",
    "      produtos[last_idx]['valor'] = input('Digite a valor do produto: ')\n",
    "      produtos[last_idx]['fornecedor'] = input('Digite a fornecedor do produto: ')\n",
    "\n",
    "  \n",
    "\n",
    "    case 4:\n",
    "      querAlterarProdutos='s'\n",
    "      while querAlterarProdutos == 's':\n",
    "        edit_idx = int(input('Digite o id do produto que deseja editar: '))\n",
    "        querEditarCampoDoProduto = 's'\n",
    "        \n",
    "        while querEditarCampoDoProduto == 's':\n",
    "          field = input('Digite o campo que deseja editar:') \n",
    "          produtos[edit_idx][field] = input('Digite o novo valor: ')\n",
    "          querEditarCampoDoProduto = input('Deseja continuar alterando esse produto? (Resposta: s/n)')\n",
    "          \n",
    "        querAlterarProdutos= input('Deseja continuar alterando produtos? (Resposta: s/n)')"
   ]
  }
 ],
 "metadata": {
  "kernelspec": {
   "display_name": ".venv",
   "language": "python",
   "name": "python3"
  },
  "language_info": {
   "codemirror_mode": {
    "name": "ipython",
    "version": 3
   },
   "file_extension": ".py",
   "mimetype": "text/x-python",
   "name": "python",
   "nbconvert_exporter": "python",
   "pygments_lexer": "ipython3",
   "version": "3.11.5"
  },
  "orig_nbformat": 4
 },
 "nbformat": 4,
 "nbformat_minor": 2
}
