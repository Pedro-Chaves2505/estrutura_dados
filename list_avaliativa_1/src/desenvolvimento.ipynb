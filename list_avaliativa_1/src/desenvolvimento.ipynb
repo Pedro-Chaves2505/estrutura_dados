{
 "cells": [
  {
   "attachments": {},
   "cell_type": "markdown",
   "metadata": {},
   "source": [
    "1 - Elabore um rápido estudo sobre as estruturas de dados 'embutidas' do Python (ou análogas \n",
    "caso utilize outra linguagem), listando de forma objetiva as principais características de cada uma \n",
    "e suas principais funções.\n",
    "\n",
    "- list\n",
    "- set\n",
    "- map"
   ]
  },
  {
   "cell_type": "code",
   "execution_count": null,
   "metadata": {},
   "outputs": [],
   "source": []
  },
  {
   "attachments": {},
   "cell_type": "markdown",
   "metadata": {},
   "source": [
    "2 - Elabore um CRUD na estrutura list para manipular nomes de países, o usuário informará os \n",
    "nomes manualmente."
   ]
  },
  {
   "cell_type": "code",
   "execution_count": null,
   "metadata": {},
   "outputs": [],
   "source": []
  },
  {
   "attachments": {},
   "cell_type": "markdown",
   "metadata": {},
   "source": [
    "3 - Elabore um simples CRUD em estrutura map para manipular uma coleção de jogadores \n",
    "(número da camisa, nome dos jogadores), limitada a 20 jogadores onde o usuário informará os \n",
    "nomes manualmente."
   ]
  },
  {
   "cell_type": "code",
   "execution_count": null,
   "metadata": {},
   "outputs": [],
   "source": []
  }
 ],
 "metadata": {
  "kernelspec": {
   "display_name": ".venv",
   "language": "python",
   "name": "python3"
  },
  "language_info": {
   "codemirror_mode": {
    "name": "ipython",
    "version": 3
   },
   "file_extension": ".py",
   "mimetype": "text/x-python",
   "name": "python",
   "nbconvert_exporter": "python",
   "pygments_lexer": "ipython3",
   "version": "3.11.0"
  },
  "orig_nbformat": 4
 },
 "nbformat": 4,
 "nbformat_minor": 2
}
